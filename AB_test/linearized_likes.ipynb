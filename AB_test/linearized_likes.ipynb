{
 "cells": [
  {
   "cell_type": "code",
   "execution_count": 1,
   "id": "d187d76a-4bfc-4724-8733-2dbfeb078e1e",
   "metadata": {},
   "outputs": [],
   "source": [
    "from scipy import stats\n",
    "import matplotlib.pyplot as plt\n",
    "import seaborn as sns\n",
    "import pandas as pd\n",
    "import pandahouse\n",
    "from read_db.CH import Getch"
   ]
  },
  {
   "cell_type": "code",
   "execution_count": 2,
   "id": "9525d54b-a7db-4b13-94e3-dbc5b0de1400",
   "metadata": {},
   "outputs": [],
   "source": [
    "data = Getch(''' SELECT exp_group, \n",
    "                        user_id,\n",
    "                        sum(action = 'like') likes,\n",
    "                        sum(action = 'view') views,\n",
    "                        likes/views ctr\n",
    "                FROM simulator_20220320.feed_actions \n",
    "                WHERE toDate(time) between '2022-03-15' and '2022-03-21'\n",
    "                and exp_group in (0, 3)\n",
    "                GROUP BY exp_group, user_id\n",
    "''').df"
   ]
  },
  {
   "cell_type": "code",
   "execution_count": 3,
   "id": "279b684e-a2f5-4272-953e-db30436d1055",
   "metadata": {},
   "outputs": [
    {
     "data": {
      "text/html": [
       "<div>\n",
       "<style scoped>\n",
       "    .dataframe tbody tr th:only-of-type {\n",
       "        vertical-align: middle;\n",
       "    }\n",
       "\n",
       "    .dataframe tbody tr th {\n",
       "        vertical-align: top;\n",
       "    }\n",
       "\n",
       "    .dataframe thead th {\n",
       "        text-align: right;\n",
       "    }\n",
       "</style>\n",
       "<table border=\"1\" class=\"dataframe\">\n",
       "  <thead>\n",
       "    <tr style=\"text-align: right;\">\n",
       "      <th></th>\n",
       "      <th>exp_group</th>\n",
       "      <th>user_id</th>\n",
       "      <th>likes</th>\n",
       "      <th>views</th>\n",
       "      <th>ctr</th>\n",
       "    </tr>\n",
       "  </thead>\n",
       "  <tbody>\n",
       "    <tr>\n",
       "      <th>0</th>\n",
       "      <td>3</td>\n",
       "      <td>115383</td>\n",
       "      <td>9</td>\n",
       "      <td>30</td>\n",
       "      <td>0.300000</td>\n",
       "    </tr>\n",
       "    <tr>\n",
       "      <th>1</th>\n",
       "      <td>3</td>\n",
       "      <td>123580</td>\n",
       "      <td>13</td>\n",
       "      <td>48</td>\n",
       "      <td>0.270833</td>\n",
       "    </tr>\n",
       "    <tr>\n",
       "      <th>2</th>\n",
       "      <td>0</td>\n",
       "      <td>4944</td>\n",
       "      <td>8</td>\n",
       "      <td>41</td>\n",
       "      <td>0.195122</td>\n",
       "    </tr>\n",
       "    <tr>\n",
       "      <th>3</th>\n",
       "      <td>0</td>\n",
       "      <td>4504</td>\n",
       "      <td>5</td>\n",
       "      <td>15</td>\n",
       "      <td>0.333333</td>\n",
       "    </tr>\n",
       "    <tr>\n",
       "      <th>4</th>\n",
       "      <td>0</td>\n",
       "      <td>121508</td>\n",
       "      <td>18</td>\n",
       "      <td>88</td>\n",
       "      <td>0.204545</td>\n",
       "    </tr>\n",
       "  </tbody>\n",
       "</table>\n",
       "</div>"
      ],
      "text/plain": [
       "   exp_group  user_id  likes  views       ctr\n",
       "0          3   115383      9     30  0.300000\n",
       "1          3   123580     13     48  0.270833\n",
       "2          0     4944      8     41  0.195122\n",
       "3          0     4504      5     15  0.333333\n",
       "4          0   121508     18     88  0.204545"
      ]
     },
     "execution_count": 3,
     "metadata": {},
     "output_type": "execute_result"
    }
   ],
   "source": [
    "data.head()"
   ]
  },
  {
   "cell_type": "code",
   "execution_count": 5,
   "id": "953eb986-b570-4ac9-9358-10a07c805f5d",
   "metadata": {},
   "outputs": [],
   "source": [
    "# считаем общий CTR в контрольной группе \n",
    "ctr_control = data[data.exp_group == 0].likes.sum() / data[data.exp_group == 0].views.sum()"
   ]
  },
  {
   "cell_type": "code",
   "execution_count": 6,
   "id": "980d686e-4366-4c6f-a3ff-269e2a9c427c",
   "metadata": {},
   "outputs": [],
   "source": [
    "# посчитаем в обоих группах поюзерную метрику\n",
    "data['linearized_likes'] = data.likes - ctr_control * data.views"
   ]
  },
  {
   "cell_type": "code",
   "execution_count": 7,
   "id": "262b3149-0cd4-4267-9349-c1bbe6a11cab",
   "metadata": {},
   "outputs": [
    {
     "data": {
      "text/plain": [
       "Ttest_indResult(statistic=-15.21499546090383, pvalue=5.4914249479687664e-52)"
      ]
     },
     "execution_count": 7,
     "metadata": {},
     "output_type": "execute_result"
    }
   ],
   "source": [
    "# сделаем t-test на linearized likes \n",
    "\n",
    "stats.ttest_ind(data[data.exp_group == 0].linearized_likes,\n",
    "                data[data.exp_group == 3].linearized_likes,\n",
    "                equal_var=False)"
   ]
  },
  {
   "cell_type": "code",
   "execution_count": 8,
   "id": "ceac9bff-4f59-47f9-8810-20dffa56c98e",
   "metadata": {},
   "outputs": [
    {
     "data": {
      "text/plain": [
       "Ttest_indResult(statistic=-13.896870721904069, pvalue=1.055849414662529e-43)"
      ]
     },
     "execution_count": 8,
     "metadata": {},
     "output_type": "execute_result"
    }
   ],
   "source": [
    "# сделаем t-test на поюзерном ctr \n",
    "\n",
    "stats.ttest_ind(data[data.exp_group == 0].ctr,\n",
    "                data[data.exp_group == 3].ctr,\n",
    "                equal_var=False)"
   ]
  },
  {
   "cell_type": "code",
   "execution_count": 9,
   "id": "93b9d88c-c688-4261-810c-739269941e7c",
   "metadata": {},
   "outputs": [],
   "source": [
    "# p-value на linearized likes имеет более высокое значение"
   ]
  },
  {
   "cell_type": "code",
   "execution_count": 10,
   "id": "17efe7f7-8843-45dc-bcff-26f7b73f821b",
   "metadata": {},
   "outputs": [],
   "source": [
    "# проведем аналогичные действия для 1 и 2 группы \n",
    "\n",
    "df = Getch(''' SELECT exp_group, \n",
    "                        user_id,\n",
    "                        sum(action = 'like') likes,\n",
    "                        sum(action = 'view') views,\n",
    "                        likes/views ctr\n",
    "                FROM simulator_20220320.feed_actions \n",
    "                WHERE toDate(time) between '2022-03-15' and '2022-03-21'\n",
    "                and exp_group in (1, 2)\n",
    "                GROUP BY exp_group, user_id\n",
    "''').df"
   ]
  },
  {
   "cell_type": "code",
   "execution_count": 11,
   "id": "6a2ae273-b14a-4010-b696-01062b8abb25",
   "metadata": {},
   "outputs": [
    {
     "data": {
      "text/html": [
       "<div>\n",
       "<style scoped>\n",
       "    .dataframe tbody tr th:only-of-type {\n",
       "        vertical-align: middle;\n",
       "    }\n",
       "\n",
       "    .dataframe tbody tr th {\n",
       "        vertical-align: top;\n",
       "    }\n",
       "\n",
       "    .dataframe thead th {\n",
       "        text-align: right;\n",
       "    }\n",
       "</style>\n",
       "<table border=\"1\" class=\"dataframe\">\n",
       "  <thead>\n",
       "    <tr style=\"text-align: right;\">\n",
       "      <th></th>\n",
       "      <th>exp_group</th>\n",
       "      <th>user_id</th>\n",
       "      <th>likes</th>\n",
       "      <th>views</th>\n",
       "      <th>ctr</th>\n",
       "    </tr>\n",
       "  </thead>\n",
       "  <tbody>\n",
       "    <tr>\n",
       "      <th>0</th>\n",
       "      <td>1</td>\n",
       "      <td>109963</td>\n",
       "      <td>3</td>\n",
       "      <td>15</td>\n",
       "      <td>0.200000</td>\n",
       "    </tr>\n",
       "    <tr>\n",
       "      <th>1</th>\n",
       "      <td>1</td>\n",
       "      <td>26117</td>\n",
       "      <td>32</td>\n",
       "      <td>141</td>\n",
       "      <td>0.226950</td>\n",
       "    </tr>\n",
       "    <tr>\n",
       "      <th>2</th>\n",
       "      <td>1</td>\n",
       "      <td>138232</td>\n",
       "      <td>18</td>\n",
       "      <td>73</td>\n",
       "      <td>0.246575</td>\n",
       "    </tr>\n",
       "    <tr>\n",
       "      <th>3</th>\n",
       "      <td>1</td>\n",
       "      <td>26295</td>\n",
       "      <td>33</td>\n",
       "      <td>122</td>\n",
       "      <td>0.270492</td>\n",
       "    </tr>\n",
       "    <tr>\n",
       "      <th>4</th>\n",
       "      <td>1</td>\n",
       "      <td>18392</td>\n",
       "      <td>7</td>\n",
       "      <td>32</td>\n",
       "      <td>0.218750</td>\n",
       "    </tr>\n",
       "  </tbody>\n",
       "</table>\n",
       "</div>"
      ],
      "text/plain": [
       "   exp_group  user_id  likes  views       ctr\n",
       "0          1   109963      3     15  0.200000\n",
       "1          1    26117     32    141  0.226950\n",
       "2          1   138232     18     73  0.246575\n",
       "3          1    26295     33    122  0.270492\n",
       "4          1    18392      7     32  0.218750"
      ]
     },
     "execution_count": 11,
     "metadata": {},
     "output_type": "execute_result"
    }
   ],
   "source": [
    "df.head()"
   ]
  },
  {
   "cell_type": "code",
   "execution_count": 12,
   "id": "8face28d-0c0e-43b6-a2d2-7d12917096ea",
   "metadata": {},
   "outputs": [],
   "source": [
    "# считаем общий CTR в контрольной группе \n",
    "ctr_control = df[df.exp_group == 1].likes.sum() / df[df.exp_group == 1].views.sum()"
   ]
  },
  {
   "cell_type": "code",
   "execution_count": 17,
   "id": "52ec4017-2df7-4f76-ada0-5fe6db2340a2",
   "metadata": {},
   "outputs": [],
   "source": [
    "# посчитаем в обоих группах поюзерную метрику\n",
    "df['linearized_likes'] = df.likes - ctr_control * df.views"
   ]
  },
  {
   "cell_type": "code",
   "execution_count": 14,
   "id": "64c3a39d-4331-4f71-b054-72e235eb4a8f",
   "metadata": {},
   "outputs": [
    {
     "data": {
      "text/plain": [
       "Ttest_indResult(statistic=0.7094392041270486, pvalue=0.4780623130874935)"
      ]
     },
     "execution_count": 14,
     "metadata": {},
     "output_type": "execute_result"
    }
   ],
   "source": [
    "# сделаем t-test на поюзерном ctr \n",
    "\n",
    "stats.ttest_ind(df[df.exp_group == 1].ctr,\n",
    "                df[df.exp_group == 2].ctr,\n",
    "                equal_var=False)"
   ]
  },
  {
   "cell_type": "code",
   "execution_count": 18,
   "id": "29c3c1d5-6860-4781-8c01-a4e9a907baf1",
   "metadata": {},
   "outputs": [
    {
     "data": {
      "text/plain": [
       "Ttest_indResult(statistic=6.122579994775973, pvalue=9.439432187037712e-10)"
      ]
     },
     "execution_count": 18,
     "metadata": {},
     "output_type": "execute_result"
    }
   ],
   "source": [
    "# сделаем t-test на linearized likes \n",
    "\n",
    "stats.ttest_ind(df[df.exp_group == 1].linearized_likes,\n",
    "                df[df.exp_group == 2].linearized_likes,\n",
    "                equal_var=False)"
   ]
  },
  {
   "cell_type": "code",
   "execution_count": 19,
   "id": "2f6cf7df-ade7-4c86-a19a-a8888cff7714",
   "metadata": {},
   "outputs": [],
   "source": [
    "# p-value в случае linearized likes в знаительной мере меньше, чем на поюзерном ctr\n",
    "# что больше похоже на правду, исходя из анализа в задании два \n",
    "# таким образом можно сделать вывод, что linearized likes метрика более чувствительно и это классно"
   ]
  },
  {
   "cell_type": "code",
   "execution_count": null,
   "id": "c7dc6bdc-1d5c-4d83-8aff-3cd35f1b4cca",
   "metadata": {},
   "outputs": [],
   "source": []
  }
 ],
 "metadata": {
  "kernelspec": {
   "display_name": "Python 3 (ipykernel)",
   "language": "python",
   "name": "python3"
  },
  "language_info": {
   "codemirror_mode": {
    "name": "ipython",
    "version": 3
   },
   "file_extension": ".py",
   "mimetype": "text/x-python",
   "name": "python",
   "nbconvert_exporter": "python",
   "pygments_lexer": "ipython3",
   "version": "3.8.10"
  }
 },
 "nbformat": 4,
 "nbformat_minor": 5
}
